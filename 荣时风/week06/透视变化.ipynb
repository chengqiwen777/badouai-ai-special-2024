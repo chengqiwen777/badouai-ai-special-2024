{
 "cells": [
  {
   "cell_type": "code",
   "execution_count": 5,
   "id": "e5a4cf2c-5f71-4be8-8863-347124efc9e1",
   "metadata": {},
   "outputs": [],
   "source": [
    "import cv2"
   ]
  },
  {
   "cell_type": "code",
   "execution_count": 6,
   "id": "d99cbc79-a67a-4fae-b2c5-84dd30cac5c2",
   "metadata": {},
   "outputs": [
    {
     "ename": "AttributeError",
     "evalue": "'NoneType' object has no attribute 'copy'",
     "output_type": "error",
     "traceback": [
      "\u001b[1;31m---------------------------------------------------------------------------\u001b[0m",
      "\u001b[1;31mAttributeError\u001b[0m                            Traceback (most recent call last)",
      "Cell \u001b[1;32mIn[6], line 2\u001b[0m\n\u001b[0;32m      1\u001b[0m img \u001b[38;5;241m=\u001b[39m cv2\u001b[38;5;241m.\u001b[39mimread(\u001b[38;5;124m'\u001b[39m\u001b[38;5;124mD:\u001b[39m\u001b[38;5;124m\\\u001b[39m\u001b[38;5;124mcvcv\u001b[39m\u001b[38;5;124m\\\u001b[39m\u001b[38;5;124m【6】立体视觉\u001b[39m\u001b[38;5;124m\\\u001b[39m\u001b[38;5;124m代码\u001b[39m\u001b[38;5;124m\\\u001b[39m\u001b[38;5;124mphoto1.jpg\u001b[39m\u001b[38;5;124m'\u001b[39m)\n\u001b[1;32m----> 2\u001b[0m result3 \u001b[38;5;241m=\u001b[39m img\u001b[38;5;241m.\u001b[39mcopy()\n\u001b[0;32m      3\u001b[0m src \u001b[38;5;241m=\u001b[39m np\u001b[38;5;241m.\u001b[39mfloat32([[\u001b[38;5;241m207\u001b[39m, \u001b[38;5;241m151\u001b[39m], [\u001b[38;5;241m517\u001b[39m, \u001b[38;5;241m285\u001b[39m], [\u001b[38;5;241m17\u001b[39m, \u001b[38;5;241m601\u001b[39m], [\u001b[38;5;241m343\u001b[39m, \u001b[38;5;241m731\u001b[39m]])\n\u001b[0;32m      4\u001b[0m dst \u001b[38;5;241m=\u001b[39m np\u001b[38;5;241m.\u001b[39mfloat32([[\u001b[38;5;241m0\u001b[39m, \u001b[38;5;241m0\u001b[39m], [\u001b[38;5;241m337\u001b[39m, \u001b[38;5;241m0\u001b[39m], [\u001b[38;5;241m0\u001b[39m, \u001b[38;5;241m488\u001b[39m], [\u001b[38;5;241m337\u001b[39m, \u001b[38;5;241m488\u001b[39m]])\n",
      "\u001b[1;31mAttributeError\u001b[0m: 'NoneType' object has no attribute 'copy'"
     ]
    }
   ],
   "source": [
    "img = cv2.imread('D:\\cvcv\\【6】立体视觉\\代码\\photo1.jpg')\n",
    "result3 = img.copy()\n",
    "src = np.float32([[207, 151], [517, 285], [17, 601], [343, 731]])\n",
    "dst = np.float32([[0, 0], [337, 0], [0, 488], [337, 488]])\n",
    "print(img.shape)\n",
    "# 生成透视变换矩阵；进行透视变换\n",
    "m = cv2.getPerspectiveTransform(src, dst)\n",
    "print(\"warpMatrix:\")\n",
    "print(m)\n",
    "result = cv2.warpPerspective(result3, m, (337, 488))\n",
    "cv2.imshow(\"src\", img)\n",
    "cv2.imshow(\"result\", result)\n",
    "cv2.waitKey(0)"
   ]
  },
  {
   "cell_type": "code",
   "execution_count": null,
   "id": "6ea0b12a-c405-4dc6-9d45-cb84a887927a",
   "metadata": {},
   "outputs": [],
   "source": []
  }
 ],
 "metadata": {
  "kernelspec": {
   "display_name": "Python 3 (ipykernel)",
   "language": "python",
   "name": "python3"
  },
  "language_info": {
   "codemirror_mode": {
    "name": "ipython",
    "version": 3
   },
   "file_extension": ".py",
   "mimetype": "text/x-python",
   "name": "python",
   "nbconvert_exporter": "python",
   "pygments_lexer": "ipython3",
   "version": "3.11.7"
  }
 },
 "nbformat": 4,
 "nbformat_minor": 5
}
